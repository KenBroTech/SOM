{
 "cells": [
  {
   "cell_type": "code",
   "execution_count": 1,
   "id": "60327394-8786-47e6-b66f-c7a17d554af3",
   "metadata": {},
   "outputs": [],
   "source": [
    "import numpy as np\n",
    "from numpy.ma.core import ceil\n",
    "from scipy.spatial import distance #distance calculation\n",
    "from sklearn.preprocessing import MinMaxScaler #normalisation\n",
    "from sklearn.model_selection import train_test_split\n",
    "from sklearn.metrics import accuracy_score #scoring\n",
    "from sklearn.metrics import confusion_matrix\n",
    "import matplotlib.pyplot as plt\n",
    "from matplotlib import animation, colors"
   ]
  },
  {
   "cell_type": "code",
   "execution_count": 3,
   "id": "3fb2a266-646f-4e79-8629-131f6fbf2b7f",
   "metadata": {},
   "outputs": [],
   "source": [
    "data_file = \"data_banknote_authentication.txt\"\n",
    "data_x = np.loadtxt(data_file, delimiter=\",\", skiprows=0, usecols=range(0,4) ,dtype=np.float64)\n",
    "data_y = np.loadtxt(data_file, delimiter=\",\", skiprows=0, usecols=(4,),dtype=np.int64)"
   ]
  },
  {
   "cell_type": "code",
   "execution_count": 4,
   "id": "f0195c7f-81af-4f46-a48a-5f4ea7c422b6",
   "metadata": {},
   "outputs": [
    {
     "name": "stdout",
     "output_type": "stream",
     "text": [
      "(1097, 4) (1097,) (275, 4) (275,)\n"
     ]
    }
   ],
   "source": [
    "train_x, test_x, train_y, test_y = train_test_split(data_x, data_y, test_size=0.2, random_state=42)\n",
    "print(train_x.shape, train_y.shape, test_x.shape, test_y.shape) # check the shapes"
   ]
  },
  {
   "cell_type": "code",
   "execution_count": 5,
   "id": "26bd6ade-b5f0-4744-b262-f328022653f2",
   "metadata": {},
   "outputs": [],
   "source": [
    "# Data Normalisation\n",
    "def minmax_scaler(data):\n",
    "  scaler = MinMaxScaler()\n",
    "  scaled = scaler.fit_transform(data)\n",
    "  return scaled\n",
    "\n",
    "# Euclidean distance\n",
    "def e_distance(x,y):\n",
    "  return distance.euclidean(x,y)\n",
    "\n",
    "# Manhattan distance\n",
    "def m_distance(x,y):\n",
    "  return distance.cityblock(x,y)\n",
    "\n",
    "# Best Matching Unit search\n",
    "def winning_neuron(data, t, som, num_rows, num_cols):\n",
    "  winner = [0,0]\n",
    "  shortest_distance = np.sqrt(data.shape[1]) # initialise with max distance\n",
    "  input_data = data[t]\n",
    "  for row in range(num_rows):\n",
    "    for col in range(num_cols):\n",
    "      distance = e_distance(som[row][col], data[t])\n",
    "      if distance < shortest_distance: \n",
    "        shortest_distance = distance\n",
    "        winner = [row,col]\n",
    "  return winner\n",
    "\n",
    "# Learning rate and neighbourhood range calculation\n",
    "def decay(step, max_steps,max_learning_rate,max_m_dsitance):\n",
    "  coefficient = 1.0 - (np.float64(step)/max_steps)\n",
    "  learning_rate = coefficient*max_learning_rate\n",
    "  neighbourhood_range = ceil(coefficient * max_m_dsitance)\n",
    "  return learning_rate, neighbourhood_range\n"
   ]
  },
  {
   "cell_type": "code",
   "execution_count": 6,
   "id": "9ca0737c-8742-4188-a2db-59cb7a0ab428",
   "metadata": {},
   "outputs": [],
   "source": [
    "num_rows = 10\n",
    "num_cols = 10\n",
    "max_m_dsitance = 4\n",
    "max_learning_rate = 0.5\n",
    "max_steps = int(7.5*10e3)\n",
    "\n",
    "# num_nurons = 5*np.sqrt(train_x.shape[0])\n",
    "# grid_size = ceil(np.sqrt(num_nurons))\n",
    "# print(grid_size)"
   ]
  },
  {
   "cell_type": "code",
   "execution_count": 7,
   "id": "52787a94-e34f-41bb-a292-b0f12817f6e5",
   "metadata": {},
   "outputs": [
    {
     "name": "stdout",
     "output_type": "stream",
     "text": [
      "Iteration:  1000\n",
      "Iteration:  2000\n",
      "Iteration:  3000\n",
      "Iteration:  4000\n",
      "Iteration:  5000\n",
      "Iteration:  6000\n",
      "Iteration:  7000\n",
      "Iteration:  8000\n",
      "Iteration:  9000\n",
      "Iteration:  10000\n",
      "Iteration:  11000\n",
      "Iteration:  12000\n",
      "Iteration:  13000\n",
      "Iteration:  14000\n",
      "Iteration:  15000\n",
      "Iteration:  16000\n",
      "Iteration:  17000\n",
      "Iteration:  18000\n",
      "Iteration:  19000\n",
      "Iteration:  20000\n",
      "Iteration:  21000\n",
      "Iteration:  22000\n",
      "Iteration:  23000\n",
      "Iteration:  24000\n",
      "Iteration:  25000\n",
      "Iteration:  26000\n",
      "Iteration:  27000\n",
      "Iteration:  28000\n",
      "Iteration:  29000\n",
      "Iteration:  30000\n",
      "Iteration:  31000\n",
      "Iteration:  32000\n",
      "Iteration:  33000\n",
      "Iteration:  34000\n",
      "Iteration:  35000\n",
      "Iteration:  36000\n",
      "Iteration:  37000\n",
      "Iteration:  38000\n",
      "Iteration:  39000\n",
      "Iteration:  40000\n",
      "Iteration:  41000\n",
      "Iteration:  42000\n",
      "Iteration:  43000\n",
      "Iteration:  44000\n",
      "Iteration:  45000\n",
      "Iteration:  46000\n",
      "Iteration:  47000\n",
      "Iteration:  48000\n",
      "Iteration:  49000\n",
      "Iteration:  50000\n",
      "Iteration:  51000\n",
      "Iteration:  52000\n",
      "Iteration:  53000\n",
      "Iteration:  54000\n",
      "Iteration:  55000\n",
      "Iteration:  56000\n",
      "Iteration:  57000\n",
      "Iteration:  58000\n",
      "Iteration:  59000\n",
      "Iteration:  60000\n",
      "Iteration:  61000\n",
      "Iteration:  62000\n",
      "Iteration:  63000\n",
      "Iteration:  64000\n",
      "Iteration:  65000\n",
      "Iteration:  66000\n",
      "Iteration:  67000\n",
      "Iteration:  68000\n",
      "Iteration:  69000\n",
      "Iteration:  70000\n",
      "Iteration:  71000\n",
      "Iteration:  72000\n",
      "Iteration:  73000\n",
      "Iteration:  74000\n",
      "Iteration:  75000\n",
      "SOM training completed\n"
     ]
    }
   ],
   "source": [
    "train_x_norm = minmax_scaler(train_x) # normalisation\n",
    "\n",
    "# initialising self-organising map\n",
    "num_dims = train_x_norm.shape[1] # numnber of dimensions in the input data\n",
    "np.random.seed(40)\n",
    "som = np.random.random_sample(size=(num_rows, num_cols, num_dims)) # map construction\n",
    "\n",
    "# start training iterations\n",
    "for step in range(max_steps):\n",
    "  if (step+1) % 1000 == 0:\n",
    "    print(\"Iteration: \", step+1) # print out the current iteration for every 1k\n",
    "  learning_rate, neighbourhood_range = decay(step, max_steps,max_learning_rate,max_m_dsitance)\n",
    "\n",
    "  t = np.random.randint(0,high=train_x_norm.shape[0]) # random index of traing data\n",
    "  winner = winning_neuron(train_x_norm, t, som, num_rows, num_cols)\n",
    "  for row in range(num_rows):\n",
    "    for col in range(num_cols):\n",
    "      if m_distance([row,col],winner) <= neighbourhood_range:\n",
    "        som[row][col] += learning_rate*(train_x_norm[t]-som[row][col]) #update neighbour's weight\n",
    "\n",
    "print(\"SOM training completed\")"
   ]
  },
  {
   "cell_type": "code",
   "execution_count": 8,
   "id": "c98f3c78-88fd-4072-a31d-ba41322344c1",
   "metadata": {},
   "outputs": [
    {
     "name": "stdout",
     "output_type": "stream",
     "text": [
      "sample data:  1000\n"
     ]
    }
   ],
   "source": [
    "label_data = train_y\n",
    "map = np.empty(shape=(num_rows, num_cols), dtype=object)\n",
    "\n",
    "for row in range(num_rows):\n",
    "  for col in range(num_cols):\n",
    "    map[row][col] = [] # empty list to store the label\n",
    "\n",
    "for t in range(train_x_norm.shape[0]):\n",
    "  if (t+1) % 1000 == 0:\n",
    "    print(\"sample data: \", t+1)\n",
    "  winner = winning_neuron(train_x_norm, t, som, num_rows, num_cols)\n",
    "  map[winner[0]][winner[1]].append(label_data[t]) # label of winning neuron"
   ]
  },
  {
   "cell_type": "code",
   "execution_count": 10,
   "id": "1835c111-d731-48e8-a054-4f7226e25858",
   "metadata": {},
   "outputs": [
    {
     "data": {
      "image/png": "[encoded data removed]",
      "text/plain": [
       "<Figure size 640x480 with 2 Axes>"
      ]
     },
     "metadata": {},
     "output_type": "display_data"
    }
   ],
   "source": [
    "label_map = np.zeros(shape=(num_rows, num_cols),dtype=np.int64)\n",
    "for row in range(num_rows):\n",
    "  for col in range(num_cols):\n",
    "    label_list = map[row][col]\n",
    "    if len(label_list)==0:\n",
    "      label = 2\n",
    "    else:\n",
    "      label = max(label_list, key=label_list.count)\n",
    "    label_map[row][col] = label\n",
    "\n",
    "title = ('Iteration ' + str(max_steps))\n",
    "cmap = colors.ListedColormap(['tab:green', 'tab:red', 'tab:orange'])\n",
    "plt.imshow(label_map, cmap=cmap)\n",
    "plt.colorbar()\n",
    "plt.title(title)\n",
    "plt.show()"
   ]
  },
  {
   "cell_type": "code",
   "execution_count": null,
   "id": "a100f6cf-145e-4075-a89b-04194a20dfa4",
   "metadata": {},
   "outputs": [],
   "source": []
  }
 ],
 "metadata": {
  "kernelspec": {
   "display_name": "Python 3 (ipykernel)",
   "language": "python",
   "name": "python3"
  },
  "language_info": {
   "codemirror_mode": {
    "name": "ipython",
    "version": 3
   },
   "file_extension": ".py",
   "mimetype": "text/x-python",
   "name": "python",
   "nbconvert_exporter": "python",
   "pygments_lexer": "ipython3",
   "version": "3.11.4"
  }
 },
 "nbformat": 4,
 "nbformat_minor": 5
}
